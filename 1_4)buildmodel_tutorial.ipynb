{
  "cells": [
    {
      "cell_type": "markdown",
      "metadata": {
        "id": "view-in-github",
        "colab_type": "text"
      },
      "source": [
        "<a href=\"https://colab.research.google.com/github/sungjindo/pytorch/blob/main/1_4)buildmodel_tutorial.ipynb\" target=\"_parent\"><img src=\"https://colab.research.google.com/assets/colab-badge.svg\" alt=\"Open In Colab\"/></a>"
      ]
    },
    {
      "cell_type": "code",
      "execution_count": 2,
      "metadata": {
        "id": "KXODiT06uMoU"
      },
      "outputs": [],
      "source": [
        "%matplotlib inline"
      ]
    },
    {
      "cell_type": "markdown",
      "metadata": {
        "id": "1W2zXRF-uMoX"
      },
      "source": [
        "\n",
        "`파이토치(PyTorch) 기본 익히기 <intro.html>`_ ||\n",
        "`빠른 시작 <quickstart_tutorial.html>`_ ||\n",
        "`텐서(Tensor) <tensorqs_tutorial.html>`_ ||\n",
        "`Dataset과 Dataloader <data_tutorial.html>`_ ||\n",
        "`변형(Transform) <transforms_tutorial.html>`_ ||\n",
        "**신경망 모델 구성하기** ||\n",
        "`Autograd <autogradqs_tutorial.html>`_ ||\n",
        "`최적화(Optimization) <optimization_tutorial.html>`_ ||\n",
        "`모델 저장하고 불러오기 <saveloadrun_tutorial.html>`_\n",
        "\n",
        "신경망 모델 구성하기\n",
        "==========================================================================\n",
        "\n",
        "신경망은 데이터에 대한 연산을 수행하는 계층(layer)/모듈(module)로 구성되어 있습니다.\n",
        "`torch.nn <https://pytorch.org/docs/stable/nn.html>`_ 네임스페이스는 신경망을 구성하는데 필요한 모든 구성 요소를 제공합니다.\n",
        "PyTorch의 모든 모듈은 `nn.Module <https://pytorch.org/docs/stable/generated/torch.nn.Module.html>`_ 의 하위 클래스(subclass)\n",
        "입니다. 신경망은 다른 모듈(계층; layer)로 구성된 모듈입니다. 이러한 중첩된 구조는 복잡한 아키텍처를 쉽게 구축하고 관리할 수 있습니다.\n",
        "\n",
        "이어지는 장에서는 FashionMNIST 데이터셋의 이미지들을 분류하는 신경망을 구성해보겠습니다.\n"
      ]
    },
    {
      "cell_type": "code",
      "execution_count": 1,
      "metadata": {
        "id": "DeT5OrZcuMoZ"
      },
      "outputs": [],
      "source": [
        "import os\n",
        "import torch\n",
        "from torch import nn\n",
        "from torch.utils.data import DataLoader\n",
        "from torchvision import datasets, transforms"
      ]
    },
    {
      "cell_type": "markdown",
      "metadata": {
        "id": "z3E-7p1juMoZ"
      },
      "source": [
        "학습을 위한 장치 얻기\n",
        "------------------------------------------------------------------------------------------\n",
        "\n",
        "가능한 경우 GPU와 같은 하드웨어 가속기에서 모델을 학습하려고 합니다.\n",
        "`torch.cuda <https://pytorch.org/docs/stable/notes/cuda.html>`_ 를 사용할 수 있는지\n",
        "확인하고 그렇지 않으면 CPU를 계속 사용합니다.\n",
        "\n"
      ]
    },
    {
      "cell_type": "code",
      "execution_count": 3,
      "metadata": {
        "id": "Zpc7tvnnuMoa",
        "colab": {
          "base_uri": "https://localhost:8080/"
        },
        "outputId": "58ecf315-a9ef-4bb8-8ff7-136b0c35b6ef"
      },
      "outputs": [
        {
          "output_type": "stream",
          "name": "stdout",
          "text": [
            "Using cuda device\n"
          ]
        }
      ],
      "source": [
        "device = \"cuda\" if torch.cuda.is_available() else \"cpu\"\n",
        "print(f\"Using {device} device\")"
      ]
    },
    {
      "cell_type": "markdown",
      "metadata": {
        "id": "KEBmYIiQuMoa"
      },
      "source": [
        "클래스 정의하기\n",
        "------------------------------------------------------------------------------------------\n",
        "\n",
        "신경망 모델을 ``nn.Module`` 의 하위클래스로 정의하고, ``__init__`` 에서 신경망 계층들을 초기화합니다.\n",
        "``nn.Module`` 을 상속받은 모든 클래스는 ``forward`` 메소드에 입력 데이터에 대한 연산들을 구현합니다.\n",
        "\n"
      ]
    },
    {
      "cell_type": "code",
      "execution_count": 4,
      "metadata": {
        "id": "eUYRcrbzuMob"
      },
      "outputs": [],
      "source": [
        "class NeuralNetwork(nn.Module):\n",
        "    def __init__(self):\n",
        "        super(NeuralNetwork, self).__init__()\n",
        "        self.flatten = nn.Flatten()\n",
        "        self.linear_relu_stack = nn.Sequential(\n",
        "            nn.Linear(28*28, 512),\n",
        "            nn.ReLU(),\n",
        "            nn.Linear(512, 512),\n",
        "            nn.ReLU(),\n",
        "            nn.Linear(512, 10),\n",
        "        )\n",
        "\n",
        "    def forward(self, x):\n",
        "        x = self.flatten(x)\n",
        "        logits = self.linear_relu_stack(x)\n",
        "        return logits"
      ]
    },
    {
      "cell_type": "markdown",
      "metadata": {
        "id": "EorCvHkruMob"
      },
      "source": [
        "``NeuralNetwork`` 의 인스턴스(instance)를 생성하고 이를 ``device`` 로 이동한 뒤,\n",
        "구조(structure)를 출력합니다.\n",
        "\n"
      ]
    },
    {
      "cell_type": "code",
      "execution_count": 5,
      "metadata": {
        "id": "WEnw-lfAuMoc",
        "colab": {
          "base_uri": "https://localhost:8080/"
        },
        "outputId": "466f8b12-fcb7-4f0e-efe4-59fa96648f1a"
      },
      "outputs": [
        {
          "output_type": "stream",
          "name": "stdout",
          "text": [
            "NeuralNetwork(\n",
            "  (flatten): Flatten(start_dim=1, end_dim=-1)\n",
            "  (linear_relu_stack): Sequential(\n",
            "    (0): Linear(in_features=784, out_features=512, bias=True)\n",
            "    (1): ReLU()\n",
            "    (2): Linear(in_features=512, out_features=512, bias=True)\n",
            "    (3): ReLU()\n",
            "    (4): Linear(in_features=512, out_features=10, bias=True)\n",
            "  )\n",
            ")\n"
          ]
        }
      ],
      "source": [
        "model = NeuralNetwork().to(device)\n",
        "print(model)"
      ]
    },
    {
      "cell_type": "markdown",
      "metadata": {
        "id": "fcZ7zuJ6uMoc"
      },
      "source": [
        "모델을 사용하기 위해 입력 데이터를 전달합니다. 이는 일부\n",
        "`백그라운드 연산들 <https://github.com/pytorch/pytorch/blob/270111b7b611d174967ed204776985cefca9c144/torch/nn/modules/module.py#L866>`_ 과 함께\n",
        "모델의 ``forward`` 를 실행합니다. ``model.forward()`` 를 직접 호출하지 마세요!\n",
        "\n",
        "모델에 입력을 호출하면 각 분류(class)에 대한 원시(raw) 예측값이 있는 10-차원 텐서가 반환됩니다.\n",
        "원시 예측값을 ``nn.Softmax`` 모듈의 인스턴스에 통과시켜 예측 확률을 얻습니다.\n",
        "\n"
      ]
    },
    {
      "cell_type": "code",
      "execution_count": 8,
      "metadata": {
        "id": "yY4JA7atuMod",
        "colab": {
          "base_uri": "https://localhost:8080/"
        },
        "outputId": "a460bdb8-7469-41c1-dd8f-8c64a4fb80c3"
      },
      "outputs": [
        {
          "output_type": "stream",
          "name": "stdout",
          "text": [
            "Predicted class: tensor([6], device='cuda:0')\n"
          ]
        }
      ],
      "source": [
        "X = torch.rand(1, 28, 28, device=device)\n",
        "logits = model(X)\n",
        "pred_probab = nn.Softmax(dim=1)(logits)\n",
        "y_pred = pred_probab.argmax(1)\n",
        "print(f\"Predicted class: {y_pred}\")"
      ]
    },
    {
      "cell_type": "markdown",
      "metadata": {
        "id": "bppKFLMSuMod"
      },
      "source": [
        "------------------------------------------------------------------------------------------\n",
        "\n",
        "\n"
      ]
    },
    {
      "cell_type": "markdown",
      "metadata": {
        "id": "OLPOGWRkuMod"
      },
      "source": [
        "모델 계층(Layer)\n",
        "------------------------------------------------------------------------------------------\n",
        "\n",
        "FashionMNIST 모델의 계층들을 살펴보겠습니다. 이를 설명하기 위해, 28x28 크기의 이미지 3개로 구성된\n",
        "미니배치를 가져와, 신경망을 통과할 때 어떤 일이 발생하는지 알아보겠습니다.\n",
        "\n"
      ]
    },
    {
      "cell_type": "code",
      "execution_count": 9,
      "metadata": {
        "id": "6EhrvVAvuMoe",
        "colab": {
          "base_uri": "https://localhost:8080/"
        },
        "outputId": "607f2984-47a1-4137-be81-639b248fd0d1"
      },
      "outputs": [
        {
          "output_type": "stream",
          "name": "stdout",
          "text": [
            "torch.Size([3, 28, 28])\n"
          ]
        }
      ],
      "source": [
        "input_image = torch.rand(3,28,28)\n",
        "print(input_image.size())"
      ]
    },
    {
      "cell_type": "markdown",
      "metadata": {
        "id": "tvdmxXvCuMoe"
      },
      "source": [
        "nn.Flatten\n",
        "^^^^^^^^^^^^^^^^^^^^^^\n",
        "`nn.Flatten  <https://pytorch.org/docs/stable/generated/torch.nn.Flatten.html>`_ 계층을 초기화하여\n",
        "각 28x28의 2D 이미지를 784 픽셀 값을 갖는 연속된 배열로 변환합니다. (dim=0의 미니배치 차원은 유지됩니다.)\n",
        "\n"
      ]
    },
    {
      "cell_type": "code",
      "execution_count": 10,
      "metadata": {
        "id": "DAD1nJTWuMoe",
        "colab": {
          "base_uri": "https://localhost:8080/"
        },
        "outputId": "2f0066bb-f1aa-4164-9193-b4c23daa542f"
      },
      "outputs": [
        {
          "output_type": "stream",
          "name": "stdout",
          "text": [
            "torch.Size([3, 784])\n"
          ]
        }
      ],
      "source": [
        "flatten = nn.Flatten()\n",
        "flat_image = flatten(input_image)\n",
        "print(flat_image.size())"
      ]
    },
    {
      "cell_type": "markdown",
      "metadata": {
        "id": "eEWGYO2xuMof"
      },
      "source": [
        "nn.Linear\n",
        "^^^^^^^^^^^^^^^^^^^^^^\n",
        "`선형 계층 <https://pytorch.org/docs/stable/generated/torch.nn.Linear.html>`_ 은 저장된 가중치(weight)와\n",
        "편향(bias)을 사용하여 입력에 선형 변환(linear transformation)을 적용하는 모듈입니다.\n",
        "\n",
        "\n"
      ]
    },
    {
      "cell_type": "code",
      "execution_count": 13,
      "metadata": {
        "id": "OCAdgbzquMof",
        "colab": {
          "base_uri": "https://localhost:8080/"
        },
        "outputId": "58ecc601-951d-405f-d16b-3d0bc84559dc"
      },
      "outputs": [
        {
          "output_type": "stream",
          "name": "stdout",
          "text": [
            "torch.Size([3, 20])\n"
          ]
        }
      ],
      "source": [
        "layer1 = nn.Linear(in_features=28*28, out_features=20)\n",
        "hidden1 = layer1(flat_image)\n",
        "print(hidden1.size())"
      ]
    },
    {
      "cell_type": "markdown",
      "metadata": {
        "id": "OSjI5sNLuMof"
      },
      "source": [
        "nn.ReLU\n",
        "^^^^^^^^^^^^^^^^^^^^^^\n",
        "비선형 활성화(activation)는 모델의 입력과 출력 사이에 복잡한 관계(mapping)를 만듭니다.\n",
        "비선형 활성화는 선형 변환 후에 적용되어 *비선형성(nonlinearity)* 을 도입하고, 신경망이 다양한 현상을 학습할 수 있도록 돕습니다.\n",
        "\n",
        "이 모델에서는 `nn.ReLU <https://pytorch.org/docs/stable/generated/torch.nn.ReLU.html>`_ 를 선형 계층들 사이에 사용하지만,\n",
        "모델을 만들 때는 비선형성을 가진 다른 활성화를 도입할 수도 있습니다.\n",
        "\n"
      ]
    },
    {
      "cell_type": "code",
      "execution_count": 14,
      "metadata": {
        "id": "yJqqctqUuMof",
        "colab": {
          "base_uri": "https://localhost:8080/"
        },
        "outputId": "ee730cdb-c279-4baf-c296-0872f649e989"
      },
      "outputs": [
        {
          "output_type": "stream",
          "name": "stdout",
          "text": [
            "Before ReLU: tensor([[ 0.5080, -0.1589,  0.1458,  0.3548, -0.5855,  0.2434,  0.6070,  0.2200,\n",
            "         -0.2082, -0.4902, -0.4775,  0.2640, -0.1499, -0.3242,  0.0741, -0.2464,\n",
            "          0.0279, -0.0127, -0.3270,  0.8932],\n",
            "        [ 0.4361, -0.1111,  0.0570,  0.3046, -0.2993,  0.0862,  0.5464,  0.2709,\n",
            "         -0.0699, -0.3679,  0.1176,  0.1279, -0.6338, -0.2104, -0.1689,  0.0119,\n",
            "         -0.0314, -0.3253, -0.1343,  0.5831],\n",
            "        [ 0.9597, -0.2875,  0.1658,  0.3856, -0.1200,  0.6041,  0.4424,  0.2629,\n",
            "         -0.0431, -0.3105, -0.1786,  0.4391, -0.4577, -0.4516,  0.0763,  0.6641,\n",
            "         -0.0388, -0.2496,  0.1407,  0.9820]], grad_fn=<AddmmBackward0>)\n",
            "\n",
            "\n",
            "After ReLU: tensor([[0.5080, 0.0000, 0.1458, 0.3548, 0.0000, 0.2434, 0.6070, 0.2200, 0.0000,\n",
            "         0.0000, 0.0000, 0.2640, 0.0000, 0.0000, 0.0741, 0.0000, 0.0279, 0.0000,\n",
            "         0.0000, 0.8932],\n",
            "        [0.4361, 0.0000, 0.0570, 0.3046, 0.0000, 0.0862, 0.5464, 0.2709, 0.0000,\n",
            "         0.0000, 0.1176, 0.1279, 0.0000, 0.0000, 0.0000, 0.0119, 0.0000, 0.0000,\n",
            "         0.0000, 0.5831],\n",
            "        [0.9597, 0.0000, 0.1658, 0.3856, 0.0000, 0.6041, 0.4424, 0.2629, 0.0000,\n",
            "         0.0000, 0.0000, 0.4391, 0.0000, 0.0000, 0.0763, 0.6641, 0.0000, 0.0000,\n",
            "         0.1407, 0.9820]], grad_fn=<ReluBackward0>)\n"
          ]
        }
      ],
      "source": [
        "print(f\"Before ReLU: {hidden1}\\n\\n\")\n",
        "hidden1 = nn.ReLU()(hidden1)\n",
        "print(f\"After ReLU: {hidden1}\")"
      ]
    },
    {
      "cell_type": "markdown",
      "metadata": {
        "id": "XSVcCIXxuMog"
      },
      "source": [
        "nn.Sequential\n",
        "^^^^^^^^^^^^^^^^^^^^^^\n",
        "`nn.Sequential <https://pytorch.org/docs/stable/generated/torch.nn.Sequential.html>`_ 은 순서를 갖는\n",
        "모듈의 컨테이너입니다. 데이터는 정의된 것과 같은 순서로 모든 모듈들을 통해 전달됩니다. 순차 컨테이너(sequential container)를 사용하여\n",
        "아래의 ``seq_modules`` 와 같은 신경망을 빠르게 만들 수 있습니다.\n",
        "\n"
      ]
    },
    {
      "cell_type": "code",
      "execution_count": 15,
      "metadata": {
        "id": "NN2SM6QIuMog"
      },
      "outputs": [],
      "source": [
        "seq_modules = nn.Sequential(\n",
        "    flatten,\n",
        "    layer1,\n",
        "    nn.ReLU(),\n",
        "    nn.Linear(20, 10)\n",
        ")\n",
        "input_image = torch.rand(3,28,28)\n",
        "logits = seq_modules(input_image)"
      ]
    },
    {
      "cell_type": "markdown",
      "metadata": {
        "id": "wR8vphgquMog"
      },
      "source": [
        "nn.Softmax\n",
        "^^^^^^^^^^^^^^^^^^^^^^\n",
        "신경망의 마지막 선형 계층은 `nn.Softmax <https://pytorch.org/docs/stable/generated/torch.nn.Softmax.html>`_ 모듈에 전달될\n",
        "([-\\infty, \\infty] 범위의 원시 값(raw value)인) `logits` 를 반환합니다. logits는 모델의 각 분류(class)에 대한 예측 확률을 나타내도록\n",
        "[0, 1] 범위로 비례하여 조정(scale)됩니다. ``dim`` 매개변수는 값의 합이 1이 되는 차원을 나타냅니다.\n",
        "\n"
      ]
    },
    {
      "cell_type": "code",
      "execution_count": 16,
      "metadata": {
        "id": "ALV1OQvnuMog"
      },
      "outputs": [],
      "source": [
        "softmax = nn.Softmax(dim=1)\n",
        "pred_probab = softmax(logits)"
      ]
    },
    {
      "cell_type": "markdown",
      "metadata": {
        "id": "at3J6gteuMog"
      },
      "source": [
        "모델 매개변수\n",
        "------------------------------------------------------------------------------------------\n",
        "\n",
        "신경망 내부의 많은 계층들은 *매개변수화(parameterize)* 됩니다. 즉, 학습 중에 최적화되는 가중치와 편향과 연관지어집니다.\n",
        "``nn.Module`` 을 상속하면 모델 객체 내부의 모든 필드들이 자동으로 추적(track)되며, 모델의 ``parameters()`` 및\n",
        "``named_parameters()`` 메소드로 모든 매개변수에 접근할 수 있게 됩니다.\n",
        "\n",
        "이 예제에서는 각 매개변수들을 순회하며(iterate), 매개변수의 크기와 값을 출력합니다.\n",
        "\n",
        "\n"
      ]
    },
    {
      "cell_type": "code",
      "execution_count": 17,
      "metadata": {
        "id": "uikJzM3-uMoh",
        "colab": {
          "base_uri": "https://localhost:8080/"
        },
        "outputId": "35d9c8a6-a7bb-478d-e341-577cf41b6f1e"
      },
      "outputs": [
        {
          "output_type": "stream",
          "name": "stdout",
          "text": [
            "Model structure: NeuralNetwork(\n",
            "  (flatten): Flatten(start_dim=1, end_dim=-1)\n",
            "  (linear_relu_stack): Sequential(\n",
            "    (0): Linear(in_features=784, out_features=512, bias=True)\n",
            "    (1): ReLU()\n",
            "    (2): Linear(in_features=512, out_features=512, bias=True)\n",
            "    (3): ReLU()\n",
            "    (4): Linear(in_features=512, out_features=10, bias=True)\n",
            "  )\n",
            ")\n",
            "\n",
            "\n",
            "Layer: linear_relu_stack.0.weight | Size: torch.Size([512, 784]) | Values : tensor([[-0.0322,  0.0042, -0.0002,  ...,  0.0012,  0.0112, -0.0060],\n",
            "        [-0.0050,  0.0011,  0.0047,  ...,  0.0245,  0.0153, -0.0335]],\n",
            "       device='cuda:0', grad_fn=<SliceBackward0>) \n",
            "\n",
            "Layer: linear_relu_stack.0.bias | Size: torch.Size([512]) | Values : tensor([0.0209, 0.0340], device='cuda:0', grad_fn=<SliceBackward0>) \n",
            "\n",
            "Layer: linear_relu_stack.2.weight | Size: torch.Size([512, 512]) | Values : tensor([[-0.0102, -0.0135, -0.0398,  ...,  0.0293,  0.0359,  0.0252],\n",
            "        [ 0.0166,  0.0169, -0.0095,  ..., -0.0326, -0.0374, -0.0116]],\n",
            "       device='cuda:0', grad_fn=<SliceBackward0>) \n",
            "\n",
            "Layer: linear_relu_stack.2.bias | Size: torch.Size([512]) | Values : tensor([-0.0242,  0.0003], device='cuda:0', grad_fn=<SliceBackward0>) \n",
            "\n",
            "Layer: linear_relu_stack.4.weight | Size: torch.Size([10, 512]) | Values : tensor([[ 0.0054,  0.0402, -0.0369,  ..., -0.0320,  0.0329,  0.0017],\n",
            "        [-0.0234, -0.0407,  0.0094,  ..., -0.0248, -0.0328, -0.0375]],\n",
            "       device='cuda:0', grad_fn=<SliceBackward0>) \n",
            "\n",
            "Layer: linear_relu_stack.4.bias | Size: torch.Size([10]) | Values : tensor([-0.0374,  0.0335], device='cuda:0', grad_fn=<SliceBackward0>) \n",
            "\n"
          ]
        }
      ],
      "source": [
        "print(f\"Model structure: {model}\\n\\n\")\n",
        "\n",
        "for name, param in model.named_parameters():\n",
        "    print(f\"Layer: {name} | Size: {param.size()} | Values : {param[:2]} \\n\")"
      ]
    },
    {
      "cell_type": "markdown",
      "metadata": {
        "id": "PaIRUkKguMoh"
      },
      "source": [
        "------------------------------------------------------------------------------------------\n",
        "\n",
        "\n"
      ]
    },
    {
      "cell_type": "markdown",
      "metadata": {
        "id": "ppi3aKgAuMoh"
      },
      "source": [
        "더 읽어보기\n",
        "------------------------------------------------------------------------------------------\n",
        "- `torch.nn API <https://pytorch.org/docs/stable/nn.html>`_\n",
        "\n"
      ]
    }
  ],
  "metadata": {
    "kernelspec": {
      "display_name": "Python 3",
      "language": "python",
      "name": "python3"
    },
    "language_info": {
      "codemirror_mode": {
        "name": "ipython",
        "version": 3
      },
      "file_extension": ".py",
      "mimetype": "text/x-python",
      "name": "python",
      "nbconvert_exporter": "python",
      "pygments_lexer": "ipython3",
      "version": "3.8.13"
    },
    "colab": {
      "name": "1_4)buildmodel_tutorial.ipynb",
      "provenance": [],
      "include_colab_link": true
    },
    "accelerator": "GPU",
    "gpuClass": "standard"
  },
  "nbformat": 4,
  "nbformat_minor": 0
}